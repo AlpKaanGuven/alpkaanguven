{
  "nbformat": 4,
  "nbformat_minor": 0,
  "metadata": {
    "colab": {
      "provenance": [],
      "authorship_tag": "ABX9TyNhDFga9+og+fSexZ16CB4C",
      "include_colab_link": true
    },
    "kernelspec": {
      "name": "python3",
      "display_name": "Python 3"
    },
    "language_info": {
      "name": "python"
    }
  },
  "cells": [
    {
      "cell_type": "markdown",
      "metadata": {
        "id": "view-in-github",
        "colab_type": "text"
      },
      "source": [
        "<a href=\"https://colab.research.google.com/github/AlpKaanGuven/alpkaanguven/blob/main/Betik_Dilleri_%C3%96dev.ipynb\" target=\"_parent\"><img src=\"https://colab.research.google.com/assets/colab-badge.svg\" alt=\"Open In Colab\"/></a>"
      ]
    },
    {
      "cell_type": "code",
      "execution_count": null,
      "metadata": {
        "colab": {
          "base_uri": "https://localhost:8080/"
        },
        "id": "j7xA3X_T_Hpt",
        "outputId": "b7562e99-6342-4f52-8db4-522e87265681"
      },
      "outputs": [
        {
          "output_type": "stream",
          "name": "stdout",
          "text": [
            "www.sabah.com.tr/teknoloji/2006/8/29\n",
            "Rastgele haber: www.sabah.com.tr/teknoloji/2006/8/29\n"
          ]
        }
      ],
      "source": [
        "import random\n",
        "\n",
        "def url_olustur(gazeteler, kategoriler, yil_baslangic, yil_bitis):\n",
        "  \"\"\"Rastgele URL'ler oluşturan ve rastgele haberleri gösteren fonksiyon.\n",
        "\n",
        "  Args:\n",
        "    gazeteler: Gazetelerin listesi.\n",
        "    kategoriler: Kategorilerin listesi.\n",
        "    yil_baslangic: Başlangıç yılı.\n",
        "    yil_bitis: Bitiş yılı.\n",
        "\n",
        "  Returns:\n",
        "    Rastgele oluşturulmuş bir URL.\n",
        "  \"\"\"\n",
        "  gazete = random.choice(gazeteler)\n",
        "  kategori = random.choice(kategoriler)\n",
        "  yil = random.randint(yil_baslangic, yil_bitis)\n",
        "  ay = random.randint(1, 12)\n",
        "  gun = random.randint(1, 30)\n",
        "\n",
        "  url = f\"www.{gazete}.com.tr/{kategori}/{yil}/{ay}/{gun}\"\n",
        "  return url\n",
        "\n",
        "# Gazeteler, kategoriler, yıl aralığı\n",
        "gazeteler = ['sabah', 'hurriyet', 'milliyet']\n",
        "kategoriler = ['saglik', 'dunya', 'teknoloji', 'spor']\n",
        "\n",
        "# Tarih aralığı\n",
        "t11 = '1.1.2005'\n",
        "t12 = '12.30.2010'\n",
        "tarih1 = t11.split('.')\n",
        "tarih2 = t12.split('.')\n",
        "yil_baslangic = int(tarih1[-1])  # 2005\n",
        "yil_bitis = int(tarih2[-1])  # 2010\n",
        "\n",
        "\n",
        "# Rastgele URL oluştur ve göster\n",
        "rastgele_url = url_olustur(gazeteler, kategoriler, yil_baslangic, yil_bitis)\n",
        "print(rastgele_url)\n",
        "\n",
        "# Rastgele haber göster (örnek)\n",
        "# Gerçek bir haber göstermek için web scraping veya API kullanmanız gerekir.\n",
        "print(\"Rastgele haber:\", rastgele_url)"
      ]
    }
  ]
}
